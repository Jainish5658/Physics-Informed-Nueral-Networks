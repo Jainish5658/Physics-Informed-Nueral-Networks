{
  "nbformat": 4,
  "nbformat_minor": 0,
  "metadata": {
    "colab": {
      "provenance": [],
      "authorship_tag": "ABX9TyPq0bOsyqoWZoW33wiNR3Cw",
      "include_colab_link": true
    },
    "kernelspec": {
      "name": "python3",
      "display_name": "Python 3"
    },
    "language_info": {
      "name": "python"
    }
  },
  "cells": [
    {
      "cell_type": "markdown",
      "metadata": {
        "id": "view-in-github",
        "colab_type": "text"
      },
      "source": [
        "<a href=\"https://colab.research.google.com/github/Jainish5658/Physics-Informed-Nueral-Networks/blob/main/underdamped_harmonic_osciallator.ipynb\" target=\"_parent\"><img src=\"https://colab.research.google.com/assets/colab-badge.svg\" alt=\"Open In Colab\"/></a>"
      ]
    },
    {
      "cell_type": "code",
      "source": [
        "!pip install deepxde"
      ],
      "metadata": {
        "colab": {
          "base_uri": "https://localhost:8080/"
        },
        "id": "0yVs9eS5mib2",
        "outputId": "beb05722-b5b4-42f6-ad01-444695a2650e"
      },
      "execution_count": null,
      "outputs": [
        {
          "output_type": "stream",
          "name": "stdout",
          "text": [
            "Collecting deepxde\n",
            "  Downloading DeepXDE-1.12.1-py3-none-any.whl.metadata (12 kB)\n",
            "Requirement already satisfied: matplotlib in /usr/local/lib/python3.10/dist-packages (from deepxde) (3.7.1)\n",
            "Requirement already satisfied: numpy in /usr/local/lib/python3.10/dist-packages (from deepxde) (1.26.4)\n",
            "Requirement already satisfied: scikit-learn in /usr/local/lib/python3.10/dist-packages (from deepxde) (1.5.2)\n",
            "Collecting scikit-optimize>=0.9.0 (from deepxde)\n",
            "  Downloading scikit_optimize-0.10.2-py2.py3-none-any.whl.metadata (9.7 kB)\n",
            "Requirement already satisfied: scipy in /usr/local/lib/python3.10/dist-packages (from deepxde) (1.13.1)\n",
            "Requirement already satisfied: joblib>=0.11 in /usr/local/lib/python3.10/dist-packages (from scikit-optimize>=0.9.0->deepxde) (1.4.2)\n",
            "Collecting pyaml>=16.9 (from scikit-optimize>=0.9.0->deepxde)\n",
            "  Downloading pyaml-24.9.0-py3-none-any.whl.metadata (11 kB)\n",
            "Requirement already satisfied: packaging>=21.3 in /usr/local/lib/python3.10/dist-packages (from scikit-optimize>=0.9.0->deepxde) (24.1)\n",
            "Requirement already satisfied: threadpoolctl>=3.1.0 in /usr/local/lib/python3.10/dist-packages (from scikit-learn->deepxde) (3.5.0)\n",
            "Requirement already satisfied: contourpy>=1.0.1 in /usr/local/lib/python3.10/dist-packages (from matplotlib->deepxde) (1.3.0)\n",
            "Requirement already satisfied: cycler>=0.10 in /usr/local/lib/python3.10/dist-packages (from matplotlib->deepxde) (0.12.1)\n",
            "Requirement already satisfied: fonttools>=4.22.0 in /usr/local/lib/python3.10/dist-packages (from matplotlib->deepxde) (4.54.1)\n",
            "Requirement already satisfied: kiwisolver>=1.0.1 in /usr/local/lib/python3.10/dist-packages (from matplotlib->deepxde) (1.4.7)\n",
            "Requirement already satisfied: pillow>=6.2.0 in /usr/local/lib/python3.10/dist-packages (from matplotlib->deepxde) (10.4.0)\n",
            "Requirement already satisfied: pyparsing>=2.3.1 in /usr/local/lib/python3.10/dist-packages (from matplotlib->deepxde) (3.2.0)\n",
            "Requirement already satisfied: python-dateutil>=2.7 in /usr/local/lib/python3.10/dist-packages (from matplotlib->deepxde) (2.8.2)\n",
            "Requirement already satisfied: PyYAML in /usr/local/lib/python3.10/dist-packages (from pyaml>=16.9->scikit-optimize>=0.9.0->deepxde) (6.0.2)\n",
            "Requirement already satisfied: six>=1.5 in /usr/local/lib/python3.10/dist-packages (from python-dateutil>=2.7->matplotlib->deepxde) (1.16.0)\n",
            "Downloading DeepXDE-1.12.1-py3-none-any.whl (184 kB)\n",
            "\u001b[2K   \u001b[90m━━━━━━━━━━━━━━━━━━━━━━━━━━━━━━━━━━━━━━━━\u001b[0m \u001b[32m184.2/184.2 kB\u001b[0m \u001b[31m3.6 MB/s\u001b[0m eta \u001b[36m0:00:00\u001b[0m\n",
            "\u001b[?25hDownloading scikit_optimize-0.10.2-py2.py3-none-any.whl (107 kB)\n",
            "\u001b[2K   \u001b[90m━━━━━━━━━━━━━━━━━━━━━━━━━━━━━━━━━━━━━━━━\u001b[0m \u001b[32m107.8/107.8 kB\u001b[0m \u001b[31m9.7 MB/s\u001b[0m eta \u001b[36m0:00:00\u001b[0m\n",
            "\u001b[?25hDownloading pyaml-24.9.0-py3-none-any.whl (24 kB)\n",
            "Installing collected packages: pyaml, scikit-optimize, deepxde\n",
            "Successfully installed deepxde-1.12.1 pyaml-24.9.0 scikit-optimize-0.10.2\n"
          ]
        }
      ]
    },
    {
      "cell_type": "code",
      "source": [
        "# Import necessary libraries\n",
        "import numpy as np\n",
        "import deepxde as dde\n",
        "from deepxde.backend import tf\n",
        "import matplotlib.pyplot as plt\n",
        "\n",
        "# Define the ODE residual function\n",
        "def ode_system(x, y):\n",
        "    \"\"\"\n",
        "    The ODE residual function for y'' + 2 y' + 10 y = 0\n",
        "    \"\"\"\n",
        "    dy = dde.grad.jacobian(y, x)  # First derivative y'\n",
        "    ddy = dde.grad.hessian(y, x)  # Second derivative y''\n",
        "    return ddy + 2 * dy + 10 * y  # The residual of the ODE\n",
        "\n",
        "# Define the time domain geometry\n",
        "geom = dde.geometry.TimeDomain(0, 10)  # Time domain from t=0 to t=10\n",
        "\n",
        "# Define the initial condition y(0) = 4\n",
        "ic1 = dde.IC(\n",
        "    geom,  # Geometry\n",
        "    lambda x: 4,  # Initial condition function y(0) = 4\n",
        "    lambda _, on_initial: on_initial  # Apply at t=0\n",
        ")\n",
        "\n",
        "# Define the initial derivative condition y'(0) = -4\n",
        "ic2 = dde.OperatorBC(\n",
        "    geom,  # Geometry\n",
        "    lambda x, y, _: dde.grad.jacobian(y, x) + 4,  # Residual dy/dt + 4 = 0\n",
        "    lambda x, on_initial: on_initial  # Apply at t=0\n",
        ")\n",
        "\n",
        "# Combine the boundary conditions\n",
        "bcs = [ic1, ic2]\n",
        "\n",
        "# Create the data object for the PDE problem\n",
        "data = dde.data.PDE(\n",
        "    geom,  # Geometry\n",
        "    ode_system,  # ODE residual function\n",
        "    bcs,  # Boundary conditions (initial conditions)\n",
        "    num_domain=300,  # Number of training points inside the domain\n",
        "    num_boundary=5,  # Number of training points on the boundary (t=0 and t=10)\n",
        "    num_test=100  # Number of test points\n",
        ")\n",
        "\n",
        "# Define the neural network model\n",
        "net = dde.maps.FNN(\n",
        "    [1] + [50] * 3 + [1],  # Number of neurons in each layer\n",
        "    \"tanh\",  # Activation function\n",
        "    \"Glorot uniform\"  # Weight initializer\n",
        ")\n",
        "\n",
        "# Create the model by combining data and network\n",
        "model = dde.Model(data, net)\n",
        "\n",
        "# Compile the model with an optimizer and learning rate\n",
        "model.compile(\"adam\", lr=0.001)\n",
        "\n",
        "# Train the model\n",
        "losshistory, train_state = model.train(epochs=10000)\n",
        "\n",
        "# Switch to L-BFGS optimizer for better convergence\n",
        "model.compile(\"L-BFGS\")\n",
        "losshistory, train_state = model.train()\n",
        "\n",
        "# Generate test data for plotting\n",
        "t = np.linspace(0, 7, 1000)[:, None]  # Shape (N, 1)\n",
        "\n",
        "# Predict y(t) using the trained model\n",
        "y_pred = model.predict(t)\n",
        "\n",
        "# Compute the exact solution for comparison\n",
        "y_exact = 4 * np.exp(-t) * np.cos(3 * t)\n",
        "\n",
        "# Plot the predicted solution and the exact solution\n",
        "plt.figure()\n",
        "plt.plot(t, y_exact, 'b-', label='Exact Solution')\n",
        "plt.plot(t, y_pred, 'r--', label='Predicted Solution')\n",
        "plt.xlabel('t')\n",
        "plt.ylabel('y(t)')\n",
        "plt.legend()\n",
        "plt.show()\n"
      ],
      "metadata": {
        "id": "88-UpHUatSl4",
        "colab": {
          "base_uri": "https://localhost:8080/",
          "height": 1000
        },
        "outputId": "3736a09d-4072-4076-921e-2a2e8be5c97d"
      },
      "execution_count": null,
      "outputs": [
        {
          "output_type": "stream",
          "name": "stdout",
          "text": [
            "Compiling model...\n",
            "Building feed-forward neural network...\n",
            "'build' took 0.065173 s\n",
            "\n",
            "'compile' took 0.668166 s\n",
            "\n",
            "Warning: epochs is deprecated and will be removed in a future version. Use iterations instead.\n",
            "Training model...\n",
            "\n",
            "Step      Train loss                        Test loss                         Test metric\n",
            "0         [1.08e+02, 1.60e+01, 1.69e+01]    [1.09e+02, 1.60e+01, 1.69e+01]    []  \n",
            "1000      [5.74e-01, 9.30e-02, 1.27e+01]    [5.18e-01, 9.30e-02, 1.27e+01]    []  \n",
            "2000      [3.09e+00, 2.91e-03, 2.10e+00]    [2.29e+00, 2.91e-03, 2.10e+00]    []  \n",
            "3000      [2.95e+00, 3.04e-04, 1.48e+00]    [3.03e+00, 3.04e-04, 1.48e+00]    []  \n",
            "4000      [2.89e+00, 2.05e-04, 1.48e+00]    [3.13e+00, 2.05e-04, 1.48e+00]    []  \n",
            "5000      [2.83e+00, 2.95e-05, 1.48e+00]    [3.09e+00, 2.95e-05, 1.48e+00]    []  \n",
            "6000      [2.83e+00, 5.26e-06, 1.41e+00]    [2.95e+00, 5.26e-06, 1.41e+00]    []  \n",
            "7000      [2.80e+00, 1.37e-05, 1.41e+00]    [3.03e+00, 1.37e-05, 1.41e+00]    []  \n",
            "8000      [2.79e+00, 1.56e-05, 1.41e+00]    [3.00e+00, 1.56e-05, 1.41e+00]    []  \n",
            "9000      [2.79e+00, 8.23e-08, 1.37e+00]    [2.90e+00, 8.23e-08, 1.37e+00]    []  \n",
            "10000     [2.87e+00, 1.43e-05, 1.38e+00]    [2.60e+00, 1.43e-05, 1.38e+00]    []  \n",
            "\n",
            "Best model at step 9000:\n",
            "  train loss: 4.16e+00\n",
            "  test loss: 4.28e+00\n",
            "  test metric: []\n",
            "\n",
            "'train' took 32.357310 s\n",
            "\n",
            "Compiling model...\n",
            "'compile' took 0.427137 s\n",
            "\n",
            "Training model...\n",
            "\n",
            "Step      Train loss                        Test loss                         Test metric\n",
            "10000     [2.87e+00, 1.43e-05, 1.38e+00]    [2.60e+00, 1.43e-05, 1.38e+00]    []  \n",
            "10015     [2.87e+00, 1.43e-05, 1.38e+00]    [2.60e+00, 1.43e-05, 1.38e+00]    []  \n",
            "\n",
            "Best model at step 9000:\n",
            "  train loss: 4.16e+00\n",
            "  test loss: 4.28e+00\n",
            "  test metric: []\n",
            "\n",
            "'train' took 1.745425 s\n",
            "\n"
          ]
        },
        {
          "output_type": "display_data",
          "data": {
            "text/plain": [
              "<Figure size 640x480 with 1 Axes>"
            ],
            "image/png": "[encoded data removed]"
          },
          "metadata": {}
        }
      ]
    }
  ]
}
